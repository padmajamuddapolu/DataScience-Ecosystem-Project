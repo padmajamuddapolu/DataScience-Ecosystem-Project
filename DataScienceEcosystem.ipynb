{
 "cells": [
  {
   "cell_type": "markdown",
   "metadata": {},
   "source": [
    "<center>\n",
    "    <img src=\"https://cf-courses-data.s3.us.cloud-object-storage.appdomain.cloud/IBMDeveloperSkillsNetwork-DS0105EN-SkillsNetwork/labs/Module2/images/SN_web_lightmode.png\" width=\"300\" alt=\"cognitiveclass.ai logo\">\n",
    "</center>\n"
   ]
  },
  {
   "cell_type": "markdown",
   "metadata": {},
   "source": [
    "# Data Science Tools and Ecosystem"
   ]
  },
  {
   "cell_type": "markdown",
   "metadata": {},
   "source": [
    "## Introduction  \n",
    "This notebook is created as the final project for the course. It demonstrates key skills in using Jupyter Notebooks, including Markdown, code cells, and essential concepts in data science."
   ]
  },
  {
   "cell_type": "markdown",
   "metadata": {},
   "source": [
    "## Data Science Languages  \n",
    "Here are some popular programming languages used in data science:  \n",
    "1. Python  \n",
    "2. R  \n",
    "3. SQL  \n",
    "4. Julia  \n",
    "5. Scala  "
   ]
  },
  {
   "cell_type": "markdown",
   "metadata": {},
   "source": [
    "## Data Science Libraries  \n",
    "Key libraries used in data science include:  \n",
    "- **Python Libraries:**  \n",
    "  - NumPy  \n",
    "  - Pandas  \n",
    "  - Matplotlib  \n",
    "  - Scikit-learn  \n",
    "  - TensorFlow  \n",
    "\n",
    "- **R Libraries:**  \n",
    "  - ggplot2  \n",
    "  - dplyr  \n",
    "  - tidyr  \n"
   ]
  },
  {
   "cell_type": "markdown",
   "metadata": {},
   "source": [
    "## Data Science Tools  \n",
    "\n",
    "| Tool            | Description                             |  \n",
    "|------------------|-----------------------------------------|  \n",
    "| Jupyter Notebook | Interactive development environment     |  \n",
    "| RStudio          | IDE for R                              |  \n",
    "| Tableau          | Data visualization and business tools  |  \n",
    "| Apache Spark     | Big data processing framework          |  \n",
    "| Microsoft Excel  | Data analysis and spreadsheet software |  \n"
   ]
  },
  {
   "cell_type": "markdown",
   "metadata": {},
   "source": [
    "### Below are a few examples of evaluating arithmetic expressions in Python \n",
    "Arithmetic expressions are used to perform mathematical calculations. Examples include:  \n",
    "- Addition: `5 + 3`  \n",
    "- Multiplication: `4 * 7`  \n",
    "- Division: `16 / 4`  \n"
   ]
  },
  {
   "cell_type": "code",
   "execution_count": 1,
   "metadata": {},
   "outputs": [
    {
     "name": "stdout",
     "output_type": "stream",
     "text": [
      "17\n"
     ]
    }
   ],
   "source": [
    "# This is a simple arithmetic expression to multiply 3 by 4, then add 5\n",
    "result = (3 * 4) + 5\n",
    "print(result)  # Expected output: 17\n"
   ]
  },
  {
   "cell_type": "code",
   "execution_count": 2,
   "metadata": {},
   "outputs": [
    {
     "name": "stdout",
     "output_type": "stream",
     "text": [
      "3.3333333333333335\n"
     ]
    }
   ],
   "source": [
    "# This will convert 200 minutes to hours by dividing by 60\n",
    "hours = 200 / 60\n",
    "print(hours)  # Expected output: 3.3333... (approximately 3.33 hours)"
   ]
  },
  {
   "cell_type": "markdown",
   "metadata": {},
   "source": [
    "**Objectives:**\n",
    "\n",
    "- Learn how to perform basic arithmetic operations in Python\n",
    "- Understand how to convert minutes to hours using Python\n",
    "- Explore the syntax and usage of code and markdown cells in Jupyter notebooks\n",
    "- Get familiar with inserting comments and explaining code in Python\n"
   ]
  },
  {
   "cell_type": "markdown",
   "metadata": {},
   "source": [
    "## Author\n",
    "Muddapolu Padmaja"
   ]
  }
 ],
 "metadata": {
  "kernelspec": {
   "display_name": "Python 3 (ipykernel)",
   "language": "python",
   "name": "python3"
  },
  "language_info": {
   "codemirror_mode": {
    "name": "ipython",
    "version": 3
   },
   "file_extension": ".py",
   "mimetype": "text/x-python",
   "name": "python",
   "nbconvert_exporter": "python",
   "pygments_lexer": "ipython3",
   "version": "3.12.8"
  }
 },
 "nbformat": 4,
 "nbformat_minor": 4
}
